{
  "nbformat": 4,
  "nbformat_minor": 0,
  "metadata": {
    "colab": {
      "name": "CAR.ipynb",
      "provenance": [],
      "authorship_tag": "ABX9TyMQo8dCWTFVk9ZlJ+5m+ibg",
      "include_colab_link": true
    },
    "kernelspec": {
      "name": "python3",
      "display_name": "Python 3"
    }
  },
  "cells": [
    {
      "cell_type": "markdown",
      "metadata": {
        "id": "view-in-github",
        "colab_type": "text"
      },
      "source": [
        "<a href=\"https://colab.research.google.com/github/mahayat/HPC101/blob/master/CAR.ipynb\" target=\"_parent\"><img src=\"https://colab.research.google.com/assets/colab-badge.svg\" alt=\"Open In Colab\"/></a>"
      ]
    },
    {
      "cell_type": "markdown",
      "metadata": {
        "id": "uFZUREF_w9me",
        "colab_type": "text"
      },
      "source": [
        "### **Conditional Auto-regressive (CAR) Model for Images**\n",
        "---\n",
        "The term ‘‘conditional’’, in the CAR model, is used because the distribution of each element of the random process is specified conditionally on the values at the neighboring nodes. Let $Z_i$ be a random variable at the $i$-th location again assuming that the expectation of $Z_i$ is zero for simplicity, and let $z_j$ be its realized value.  The CAR model is typically specified as\n",
        "\n",
        "$$Z_i|\\textbf{z}_{-i} \\sim N\\Bigg(\\sum_{j=1}^{n} c_{i,j}z_j, m_{i,i}\\Bigg)$$ \n",
        "\n",
        "where $\\textbf{z}_{−i}$ is the vector of all $z_j$ where $j \\neq i$, \n",
        "\n",
        "*   $\\textbf{C}$ is the spatial weights matrix with $c_{i,j}$ as its $(i,j)$-th  element and  $c_{i,i} = 0$. Hence, $\\textbf{C}$ need not be symmetric.\n",
        "\n",
        "* $M$ is a diagonal matrix with positive diagonal elements $m_{i,i}$. The variance component, $m_{i,i}$ often varies with node $i$ and may depend on\n",
        "the values in the $i$-th row of $C$, and thus $M$ is generally heteroscedastic.\n",
        "\n",
        "* Using [Brook’s lemma](https://web.stanford.edu/class/stats253/lectures/lect7.pdf), we can find joint distribution from full conditional distribution with realized values \n",
        "* If $\\textbf{Z}_{\\text{CAR}} = (\\textbf{I} − \\textbf{C})^{-1}M$ is positive definite then $\\textbf{Z} ∼ N(\\textbf{0},  \\textbf{Z}_{\\text{CAR}})$\n",
        "  * Positive definite matrices are symmetric and have real eigenvalues\n",
        "  * $\\textbf{Z}_{\\text{CAR}}$ must be symmetric, hence \n",
        "$$ \\frac{c_{i,j}}{m_{i,i}} = \\frac{c_{j,i}}{m_{j,j}}, \\forall i, j$$\n",
        "* Conditions for a valid $\\textbf{Z}_{\\text{CAR}}$\n",
        "  * $(\\textbf{I}-\\textbf{C})$ has positive eigenvalues\n",
        "  * $M$ is diagonal with positive diagonal elements\n",
        "  * $c_{i,i} = 0, \\forall i$\n",
        "  * $\\frac{c_{i,j}}{m_{i,i}} = \\frac{c_{j,i}}{m_{j,j}}, \\forall i, j$"
      ]
    }
  ]
}